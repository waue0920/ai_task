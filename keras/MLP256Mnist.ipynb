{
 "cells": [
  {
   "cell_type": "code",
   "execution_count": 1,
   "metadata": {},
   "outputs": [
    {
     "name": "stderr",
     "output_type": "stream",
     "text": [
      "/home/waue/anaconda3/lib/python3.6/site-packages/h5py/__init__.py:34: FutureWarning: Conversion of the second argument of issubdtype from `float` to `np.floating` is deprecated. In future, it will be treated as `np.float64 == np.dtype(float).type`.\n",
      "  from ._conv import register_converters as _register_converters\n",
      "Using TensorFlow backend.\n"
     ]
    }
   ],
   "source": [
    "from keras.datasets import mnist\n",
    "from keras.utils import np_utils\n",
    "\n",
    "def load_data():\n",
    "\t# 載入mnist的資料\n",
    "\t(x_train, y_train), (x_test, y_test) = mnist.load_data()\n",
    "\t# 將圖片轉換為一個60000*784的向量，並且標準化\n",
    "\tx_train = x_train.reshape(x_train.shape[0], 28*28)\n",
    "\tx_test = x_test.reshape(x_test.shape[0], 28*28)\n",
    "\tx_train = x_train.astype('float32')\n",
    "\tx_test = x_test.astype('float32')\n",
    "\tx_train = x_train/255\n",
    "\tx_test = x_test/255\n",
    "\t# 將y轉換成one-hot encoding \n",
    "\ty_train = np_utils.to_categorical(y_train, 10)\n",
    "\ty_test = np_utils.to_categorical(y_test, 10)\n",
    "\t# 回傳處理完的資料\n",
    "\treturn (x_train, y_train), (x_test, y_test)\n",
    "    "
   ]
  },
  {
   "cell_type": "code",
   "execution_count": 2,
   "metadata": {
    "collapsed": true
   },
   "outputs": [],
   "source": [
    "import numpy as np\n",
    "from keras.models import Sequential\n",
    "from keras.layers.core import Dense,Activation\n",
    "from keras.optimizers import  Adam\n",
    "\n",
    "def build_model():\n",
    "\t#建立模型\n",
    "\tmodel = Sequential()\n",
    "\t#將模型疊起\n",
    "\tmodel.add(Dense(input_dim=28*28,units=256,activation='relu'))\n",
    "\tmodel.add(Dense(units=256,activation='relu'))\n",
    "\tmodel.add(Dense(units=10,activation='softmax'))\n",
    "\tmodel.summary()\n",
    "\treturn model"
   ]
  },
  {
   "cell_type": "code",
   "execution_count": 3,
   "metadata": {},
   "outputs": [
    {
     "name": "stdout",
     "output_type": "stream",
     "text": [
      "_________________________________________________________________\n",
      "Layer (type)                 Output Shape              Param #   \n",
      "=================================================================\n",
      "dense_1 (Dense)              (None, 256)               200960    \n",
      "_________________________________________________________________\n",
      "dense_2 (Dense)              (None, 256)               65792     \n",
      "_________________________________________________________________\n",
      "dense_3 (Dense)              (None, 10)                2570      \n",
      "=================================================================\n",
      "Total params: 269,322\n",
      "Trainable params: 269,322\n",
      "Non-trainable params: 0\n",
      "_________________________________________________________________\n",
      "Epoch 1/20\n",
      "60000/60000 [==============================] - 4s 61us/step - loss: 0.2431 - acc: 0.9286\n",
      "Epoch 2/20\n",
      "60000/60000 [==============================] - 3s 57us/step - loss: 0.0934 - acc: 0.9715\n",
      "Epoch 3/20\n",
      "60000/60000 [==============================] - 3s 56us/step - loss: 0.0618 - acc: 0.9801\n",
      "Epoch 4/20\n",
      "60000/60000 [==============================] - 3s 57us/step - loss: 0.0465 - acc: 0.9852\n",
      "Epoch 5/20\n",
      "60000/60000 [==============================] - 3s 56us/step - loss: 0.0335 - acc: 0.9895\n",
      "Epoch 6/20\n",
      "60000/60000 [==============================] - 3s 58us/step - loss: 0.0261 - acc: 0.9919\n",
      "Epoch 7/20\n",
      "60000/60000 [==============================] - 3s 57us/step - loss: 0.0202 - acc: 0.9933\n",
      "Epoch 8/20\n",
      "60000/60000 [==============================] - 3s 57us/step - loss: 0.0187 - acc: 0.9939\n",
      "Epoch 9/20\n",
      "60000/60000 [==============================] - 3s 57us/step - loss: 0.0159 - acc: 0.9946\n",
      "Epoch 10/20\n",
      "60000/60000 [==============================] - 3s 57us/step - loss: 0.0151 - acc: 0.9952\n",
      "Epoch 11/20\n",
      "60000/60000 [==============================] - 3s 58us/step - loss: 0.0133 - acc: 0.9955\n",
      "Epoch 12/20\n",
      "60000/60000 [==============================] - 3s 57us/step - loss: 0.0117 - acc: 0.9961\n",
      "Epoch 13/20\n",
      "60000/60000 [==============================] - 3s 56us/step - loss: 0.0122 - acc: 0.9960\n",
      "Epoch 14/20\n",
      "60000/60000 [==============================] - 3s 57us/step - loss: 0.0089 - acc: 0.9971\n",
      "Epoch 15/20\n",
      "60000/60000 [==============================] - 3s 57us/step - loss: 0.0125 - acc: 0.9961\n",
      "Epoch 16/20\n",
      "60000/60000 [==============================] - 3s 56us/step - loss: 0.0106 - acc: 0.9967\n",
      "Epoch 17/20\n",
      "60000/60000 [==============================] - 3s 57us/step - loss: 0.0059 - acc: 0.9980\n",
      "Epoch 18/20\n",
      "60000/60000 [==============================] - 3s 58us/step - loss: 0.0083 - acc: 0.9975\n",
      "Epoch 19/20\n",
      "60000/60000 [==============================] - 3s 58us/step - loss: 0.0062 - acc: 0.9981\n",
      "Epoch 20/20\n",
      "60000/60000 [==============================] - 3s 58us/step - loss: 0.0084 - acc: 0.9973\n",
      "60000/60000 [==============================] - 3s 56us/step\n",
      "\n",
      "Train Acc: 0.9980666666666667\n",
      "10000/10000 [==============================] - 1s 55us/step\n",
      "\n",
      "Test Acc: 0.9812\n"
     ]
    }
   ],
   "source": [
    "(x_train,y_train),(x_test,y_test)=load_data()\n",
    "model = build_model()\n",
    "#開始訓練模型\n",
    "model.compile(loss='categorical_crossentropy',optimizer=\"adam\",metrics=['accuracy'])\n",
    "model.fit(x_train,y_train,batch_size=100,epochs=20)\n",
    "#顯示訓練結果\n",
    "score = model.evaluate(x_train,y_train)\n",
    "print ('\\nTrain Acc:', score[1])\n",
    "score = model.evaluate(x_test,y_test)\n",
    "print ('\\nTest Acc:', score[1])"
   ]
  },
  {
   "cell_type": "code",
   "execution_count": null,
   "metadata": {
    "collapsed": true
   },
   "outputs": [],
   "source": []
  }
 ],
 "metadata": {
  "kernelspec": {
   "display_name": "Python 3",
   "language": "python",
   "name": "python3"
  },
  "language_info": {
   "codemirror_mode": {
    "name": "ipython",
    "version": 3
   },
   "file_extension": ".py",
   "mimetype": "text/x-python",
   "name": "python",
   "nbconvert_exporter": "python",
   "pygments_lexer": "ipython3",
   "version": "3.6.3"
  }
 },
 "nbformat": 4,
 "nbformat_minor": 2
}
