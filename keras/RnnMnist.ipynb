{
 "cells": [
  {
   "cell_type": "code",
   "execution_count": 1,
   "metadata": {},
   "outputs": [
    {
     "name": "stderr",
     "output_type": "stream",
     "text": [
      "/home/waue/anaconda3/lib/python3.6/site-packages/h5py/__init__.py:34: FutureWarning: Conversion of the second argument of issubdtype from `float` to `np.floating` is deprecated. In future, it will be treated as `np.float64 == np.dtype(float).type`.\n",
      "  from ._conv import register_converters as _register_converters\n",
      "Using TensorFlow backend.\n"
     ]
    }
   ],
   "source": [
    "from keras.datasets import mnist\n",
    "from keras.utils import np_utils\n",
    "def load_data():\n",
    "\t# 載入mnist的資料 - same\n",
    "\t(x_train, y_train), (x_test, y_test) = mnist.load_data()\n",
    "\t# notice: reshape(,-1,1)\n",
    "\tx_Train=(x_train.reshape(x_train.shape[0],-1,1).astype('float32'))/255\n",
    "\tx_Test=(x_test.reshape(x_test.shape[0],-1,1).astype('float32'))/255\n",
    "\t# 將y轉換成one-hot encoding \n",
    "\ty_TrainOneHot = np_utils.to_categorical(y_train, 10)\n",
    "\ty_TestOneHot = np_utils.to_categorical(y_test, 10)\n",
    "\t# 回傳處理完的資料\n",
    "\treturn (x_Train, y_TrainOneHot), (x_Test, y_TestOneHot)\n",
    "    "
   ]
  },
  {
   "cell_type": "code",
   "execution_count": 4,
   "metadata": {
    "collapsed": true
   },
   "outputs": [],
   "source": [
    "import numpy as np\n",
    "from keras.models import Sequential\n",
    "from keras.layers import Dense, Activation\n",
    "from keras import initializers\n",
    "\n",
    "#改使用這些layers, Conv2D = CNN\n",
    "from keras.layers import SimpleRNN\n",
    "from keras.optimizers import RMSprop\n",
    "\n",
    "def build_model():\n",
    "\t#建立模型 - same\n",
    "\tmodel = Sequential()\n",
    "\t#建立RNN前置\n",
    "\t#MLP: model.add(Dense(input_dim=28*28,units=500,activation='relu'))\n",
    "\t#CNN: model.add(Conv2D(filters=16,kernel_size=(5,5),padding='same',input_shape=(28,28,1), activation='relu'))\n",
    "\t#CNN: model.add(MaxPooling2D(pool_size=(2, 2)))\n",
    "\t#CNN: model.add(Conv2D(filters=36,kernel_size=(5,5),padding='same',activation='relu'))\n",
    "\t#CNN: model.add(MaxPooling2D(pool_size=(2, 2)))\n",
    "\t#CNN: model.add(Flatten())\n",
    "\tmodel.add(SimpleRNN(100,\\\n",
    "                        kernel_initializer=initializers.RandomNormal(stddev=0.001),\\\n",
    "                        recurrent_initializer=initializers.Identity(gain=1.0),\\\n",
    "                        activation='relu',input_shape=x_train.shape[1:]))\n",
    "\t# 使用 core layer MLP - Same\n",
    "\tmodel.add(Dense(units=500,activation='relu'))\n",
    "\tmodel.add(Dense(units=10,activation='softmax'))\n",
    "\tmodel.summary()\n",
    "\treturn model"
   ]
  },
  {
   "cell_type": "code",
   "execution_count": 7,
   "metadata": {},
   "outputs": [
    {
     "name": "stdout",
     "output_type": "stream",
     "text": [
      "_________________________________________________________________\n",
      "Layer (type)                 Output Shape              Param #   \n",
      "=================================================================\n",
      "simple_rnn_3 (SimpleRNN)     (None, 100)               10200     \n",
      "_________________________________________________________________\n",
      "dense_5 (Dense)              (None, 500)               50500     \n",
      "_________________________________________________________________\n",
      "dense_6 (Dense)              (None, 10)                5010      \n",
      "=================================================================\n",
      "Total params: 65,710\n",
      "Trainable params: 65,710\n",
      "Non-trainable params: 0\n",
      "_________________________________________________________________\n",
      "Train on 60000 samples, validate on 10000 samples\n",
      "Epoch 1/20\n",
      "60000/60000 [==============================] - 250s 4ms/step - loss: 2.2442 - acc: 0.1882 - val_loss: 2.1050 - val_acc: 0.2130\n",
      "Epoch 2/20\n",
      "60000/60000 [==============================] - 244s 4ms/step - loss: 2.0074 - acc: 0.2383 - val_loss: 1.9616 - val_acc: 0.2511\n",
      "Epoch 3/20\n",
      "60000/60000 [==============================] - 245s 4ms/step - loss: 1.9507 - acc: 0.2546 - val_loss: 1.9266 - val_acc: 0.2615\n",
      "Epoch 4/20\n",
      "60000/60000 [==============================] - 245s 4ms/step - loss: 1.9277 - acc: 0.2652 - val_loss: 1.9057 - val_acc: 0.2790\n",
      "Epoch 5/20\n",
      "60000/60000 [==============================] - 244s 4ms/step - loss: 1.9090 - acc: 0.2732 - val_loss: 1.8947 - val_acc: 0.2915\n",
      "Epoch 6/20\n",
      "60000/60000 [==============================] - 239s 4ms/step - loss: 1.8916 - acc: 0.2810 - val_loss: 1.8745 - val_acc: 0.2886\n",
      "Epoch 7/20\n",
      "60000/60000 [==============================] - 233s 4ms/step - loss: 1.8743 - acc: 0.2894 - val_loss: 1.8520 - val_acc: 0.3011\n",
      "Epoch 8/20\n",
      "60000/60000 [==============================] - 227s 4ms/step - loss: 1.8558 - acc: 0.2984 - val_loss: 1.8290 - val_acc: 0.3281\n",
      "Epoch 9/20\n",
      "60000/60000 [==============================] - 231s 4ms/step - loss: 1.8355 - acc: 0.3088 - val_loss: 1.8142 - val_acc: 0.3040\n",
      "Epoch 10/20\n",
      "60000/60000 [==============================] - 236s 4ms/step - loss: 1.8114 - acc: 0.3218 - val_loss: 1.7752 - val_acc: 0.3470\n",
      "Epoch 11/20\n",
      "60000/60000 [==============================] - 232s 4ms/step - loss: 1.7816 - acc: 0.3370 - val_loss: 1.7477 - val_acc: 0.3621\n",
      "Epoch 12/20\n",
      "60000/60000 [==============================] - 234s 4ms/step - loss: 1.7468 - acc: 0.3560 - val_loss: 1.7041 - val_acc: 0.3787\n",
      "Epoch 13/20\n",
      "60000/60000 [==============================] - 235s 4ms/step - loss: 1.7132 - acc: 0.3693 - val_loss: 1.6743 - val_acc: 0.3838\n",
      "Epoch 14/20\n",
      "60000/60000 [==============================] - 230s 4ms/step - loss: 1.6849 - acc: 0.3807 - val_loss: 1.6541 - val_acc: 0.3931\n",
      "Epoch 15/20\n",
      "60000/60000 [==============================] - 238s 4ms/step - loss: 1.6657 - acc: 0.3882 - val_loss: 1.6399 - val_acc: 0.3917\n",
      "Epoch 16/20\n",
      "60000/60000 [==============================] - 239s 4ms/step - loss: 1.6511 - acc: 0.3917 - val_loss: 1.6842 - val_acc: 0.3745\n",
      "Epoch 17/20\n",
      "60000/60000 [==============================] - 238s 4ms/step - loss: 1.6403 - acc: 0.3949 - val_loss: 1.6120 - val_acc: 0.4062\n",
      "Epoch 18/20\n",
      "60000/60000 [==============================] - 227s 4ms/step - loss: 1.6302 - acc: 0.3991 - val_loss: 1.6297 - val_acc: 0.3924\n",
      "Epoch 19/20\n",
      "60000/60000 [==============================] - 240s 4ms/step - loss: 1.6239 - acc: 0.4003 - val_loss: 1.6002 - val_acc: 0.4048\n",
      "Epoch 20/20\n",
      "60000/60000 [==============================] - 231s 4ms/step - loss: 1.6163 - acc: 0.4050 - val_loss: 1.5877 - val_acc: 0.4108\n",
      "60000/60000 [==============================] - 129s 2ms/step\n",
      "\n",
      "Train Acc: 0.41223333333333334\n",
      "10000/10000 [==============================] - 21s 2ms/step\n",
      "\n",
      "Test Acc: 0.4108\n"
     ]
    }
   ],
   "source": [
    "(x_train,y_train),(x_test,y_test)=load_data()\n",
    "model = build_model()\n",
    "#開始訓練模型 - diff: optimizer=\"rmsprop\"\n",
    "#model.compile(loss='categorical_crossentropy',optimizer=\"adam\",metrics=['accuracy'])\n",
    "model.compile(loss='categorical_crossentropy',\\\n",
    "              optimizer=RMSprop(lr=1e-6),metrics=['accuracy'])\n",
    "\n",
    "# diff: validation_data=(x_test, y_test))\n",
    "model.fit(x_train,y_train,batch_size=100,epochs=200,\\\n",
    "          validation_data=(x_test, y_test))\n",
    "#顯示訓練結果 - same\n",
    "score = model.evaluate(x_train,y_train)\n",
    "print ('\\nTrain Acc:', score[1])\n",
    "score = model.evaluate(x_test,y_test)\n",
    "print ('\\nTest Acc:', score[1])"
   ]
  },
  {
   "cell_type": "code",
   "execution_count": null,
   "metadata": {
    "collapsed": true
   },
   "outputs": [],
   "source": []
  }
 ],
 "metadata": {
  "kernelspec": {
   "display_name": "Python 3",
   "language": "python",
   "name": "python3"
  },
  "language_info": {
   "codemirror_mode": {
    "name": "ipython",
    "version": 3
   },
   "file_extension": ".py",
   "mimetype": "text/x-python",
   "name": "python",
   "nbconvert_exporter": "python",
   "pygments_lexer": "ipython3",
   "version": "3.6.3"
  }
 },
 "nbformat": 4,
 "nbformat_minor": 2
}
