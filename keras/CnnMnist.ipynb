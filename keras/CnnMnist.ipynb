{
 "cells": [
  {
   "cell_type": "code",
   "execution_count": 7,
   "metadata": {},
   "outputs": [],
   "source": [
    "from keras.datasets import mnist\n",
    "from keras.utils import np_utils\n",
    "def load_data():\n",
    "\t# 載入mnist的資料 - same\n",
    "\t(x_train, y_train), (x_test, y_test) = mnist.load_data()\n",
    "\t# notice: reshape(,,,1)\n",
    "\tx_Train4D=(x_train.reshape(x_train.shape[0],28,28,1).astype('float32'))/255\n",
    "\tx_Test4D=(x_test.reshape(x_test.shape[0],28,28,1).astype('float32'))/255\n",
    "\t# 將y轉換成one-hot encoding \n",
    "\ty_TrainOneHot = np_utils.to_categorical(y_train, 10)\n",
    "\ty_TestOneHot = np_utils.to_categorical(y_test, 10)\n",
    "\t# 回傳處理完的資料\n",
    "\treturn (x_Train4D, y_TrainOneHot), (x_Test4D, y_TestOneHot)\n",
    "    "
   ]
  },
  {
   "cell_type": "code",
   "execution_count": 8,
   "metadata": {},
   "outputs": [],
   "source": [
    "import numpy as np\n",
    "from keras.models import Sequential\n",
    "\n",
    "#改使用這些layers, Conv2D = CNN\n",
    "from keras.layers import Dense,Dropout,Flatten,Conv2D,MaxPooling2D\n",
    "\n",
    "\n",
    "def build_model():\n",
    "\t#建立模型 - same\n",
    "\tmodel = Sequential()\n",
    "\t#建立CNN前置\n",
    "\t#model.add(Dense(input_dim=28*28,units=500,activation='relu'))\n",
    "\tmodel.add(Conv2D(filters=16,kernel_size=(5,5),padding='same',input_shape=(28,28,1), activation='relu'))\n",
    "\tmodel.add(MaxPooling2D(pool_size=(2, 2)))\n",
    "\tmodel.add(Conv2D(filters=36,kernel_size=(5,5),padding='same',activation='relu'))\n",
    "\tmodel.add(MaxPooling2D(pool_size=(2, 2)))\n",
    "\tmodel.add(Flatten())\n",
    "\n",
    "\t# 使用 core layer MLP - Same\n",
    "\tmodel.add(Dense(units=500,activation='relu'))\n",
    "\tmodel.add(Dense(units=10,activation='softmax'))\n",
    "\tmodel.summary()\n",
    "\treturn model"
   ]
  },
  {
   "cell_type": "code",
   "execution_count": 9,
   "metadata": {},
   "outputs": [
    {
     "name": "stdout",
     "output_type": "stream",
     "text": [
      "_________________________________________________________________\n",
      "Layer (type)                 Output Shape              Param #   \n",
      "=================================================================\n",
      "conv2d_1 (Conv2D)            (None, 28, 28, 16)        416       \n",
      "_________________________________________________________________\n",
      "max_pooling2d_1 (MaxPooling2 (None, 14, 14, 16)        0         \n",
      "_________________________________________________________________\n",
      "conv2d_2 (Conv2D)            (None, 14, 14, 36)        14436     \n",
      "_________________________________________________________________\n",
      "max_pooling2d_2 (MaxPooling2 (None, 7, 7, 36)          0         \n",
      "_________________________________________________________________\n",
      "flatten_1 (Flatten)          (None, 1764)              0         \n",
      "_________________________________________________________________\n",
      "dense_1 (Dense)              (None, 500)               882500    \n",
      "_________________________________________________________________\n",
      "dense_2 (Dense)              (None, 10)                5010      \n",
      "=================================================================\n",
      "Total params: 902,362\n",
      "Trainable params: 902,362\n",
      "Non-trainable params: 0\n",
      "_________________________________________________________________\n",
      "Epoch 1/20\n",
      "60000/60000 [==============================] - 23s 385us/step - loss: 0.1607 - acc: 0.9514\n",
      "Epoch 2/20\n",
      "60000/60000 [==============================] - 22s 369us/step - loss: 0.0460 - acc: 0.9854\n",
      "Epoch 3/20\n",
      "60000/60000 [==============================] - 22s 365us/step - loss: 0.0318 - acc: 0.9900\n",
      "Epoch 4/20\n",
      "60000/60000 [==============================] - 22s 365us/step - loss: 0.0228 - acc: 0.9928\n",
      "Epoch 5/20\n",
      "60000/60000 [==============================] - 22s 362us/step - loss: 0.0174 - acc: 0.9941\n",
      "Epoch 6/20\n",
      "60000/60000 [==============================] - 22s 359us/step - loss: 0.0137 - acc: 0.9958\n",
      "Epoch 7/20\n",
      "60000/60000 [==============================] - 21s 356us/step - loss: 0.0124 - acc: 0.9959\n",
      "Epoch 8/20\n",
      "60000/60000 [==============================] - 21s 357us/step - loss: 0.0090 - acc: 0.9971\n",
      "Epoch 9/20\n",
      "60000/60000 [==============================] - 22s 360us/step - loss: 0.0091 - acc: 0.9970\n",
      "Epoch 10/20\n",
      "60000/60000 [==============================] - 22s 364us/step - loss: 0.0079 - acc: 0.9972\n",
      "Epoch 11/20\n",
      "60000/60000 [==============================] - 22s 360us/step - loss: 0.0053 - acc: 0.9982\n",
      "Epoch 12/20\n",
      "60000/60000 [==============================] - 21s 358us/step - loss: 0.0067 - acc: 0.9978\n",
      "Epoch 13/20\n",
      "60000/60000 [==============================] - 21s 355us/step - loss: 0.0073 - acc: 0.9976\n",
      "Epoch 14/20\n",
      "60000/60000 [==============================] - 21s 354us/step - loss: 0.0041 - acc: 0.9986\n",
      "Epoch 15/20\n",
      "60000/60000 [==============================] - 21s 357us/step - loss: 0.0038 - acc: 0.9987\n",
      "Epoch 16/20\n",
      "60000/60000 [==============================] - 21s 354us/step - loss: 0.0056 - acc: 0.9984\n",
      "Epoch 17/20\n",
      "60000/60000 [==============================] - 21s 353us/step - loss: 0.0018 - acc: 0.9995\n",
      "Epoch 18/20\n",
      "60000/60000 [==============================] - 21s 352us/step - loss: 0.0059 - acc: 0.9981\n",
      "Epoch 19/20\n",
      "60000/60000 [==============================] - 21s 352us/step - loss: 0.0048 - acc: 0.9986\n",
      "Epoch 20/20\n",
      "60000/60000 [==============================] - 21s 356us/step - loss: 0.0028 - acc: 0.9992\n",
      "60000/60000 [==============================] - 8s 139us/step\n",
      "\n",
      "Train Acc: 0.99945\n",
      "10000/10000 [==============================] - 1s 145us/step\n",
      "\n",
      "Test Acc: 0.9925\n"
     ]
    }
   ],
   "source": [
    "(x_train,y_train),(x_test,y_test)=load_data()\n",
    "model = build_model()\n",
    "#開始訓練模型 - same\n",
    "model.compile(loss='categorical_crossentropy',optimizer=\"adam\",metrics=['accuracy'])\n",
    "model.fit(x_train,y_train,batch_size=100,epochs=20)\n",
    "#顯示訓練結果 - same\n",
    "score = model.evaluate(x_train,y_train)\n",
    "print ('\\nTrain Acc:', score[1])\n",
    "score = model.evaluate(x_test,y_test)\n",
    "print ('\\nTest Acc:', score[1])"
   ]
  },
  {
   "cell_type": "code",
   "execution_count": null,
   "metadata": {
    "collapsed": true
   },
   "outputs": [],
   "source": []
  }
 ],
 "metadata": {
  "kernelspec": {
   "display_name": "Python 3",
   "language": "python",
   "name": "python3"
  },
  "language_info": {
   "codemirror_mode": {
    "name": "ipython",
    "version": 3
   },
   "file_extension": ".py",
   "mimetype": "text/x-python",
   "name": "python",
   "nbconvert_exporter": "python",
   "pygments_lexer": "ipython3",
   "version": "3.6.3"
  }
 },
 "nbformat": 4,
 "nbformat_minor": 2
}
