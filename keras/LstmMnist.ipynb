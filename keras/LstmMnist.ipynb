{
 "cells": [
  {
   "cell_type": "code",
   "execution_count": 1,
   "metadata": {},
   "outputs": [
    {
     "name": "stderr",
     "output_type": "stream",
     "text": [
      "/home/waue/anaconda3/lib/python3.6/site-packages/h5py/__init__.py:34: FutureWarning: Conversion of the second argument of issubdtype from `float` to `np.floating` is deprecated. In future, it will be treated as `np.float64 == np.dtype(float).type`.\n",
      "  from ._conv import register_converters as _register_converters\n",
      "Using TensorFlow backend.\n"
     ]
    }
   ],
   "source": [
    "from keras.datasets import mnist\n",
    "from keras.utils import np_utils\n",
    "\n",
    "\n",
    "# Training parameters.\n",
    "batch_size = 32\n",
    "num_classes = 10\n",
    "epochs = 5\n",
    "\n",
    "# Embedding dimensions.\n",
    "row_hidden = 128\n",
    "col_hidden = 128\n",
    "\n",
    "\n",
    "\n",
    "\n",
    "\n",
    "def load_data():\n",
    "\t# 載入mnist的資料 - same\n",
    "\t(x_train, y_train), (x_test, y_test) = mnist.load_data()\n",
    "\t# notice: reshape(,-1,1)\n",
    "\tx_Train=(x_train.reshape(x_train.shape[0],28,28,1).astype('float32'))/255\n",
    "\tx_Test=(x_test.reshape(x_test.shape[0],28,28,1).astype('float32'))/255\n",
    "\t# 將y轉換成one-hot encoding \n",
    "\ty_TrainOneHot = np_utils.to_categorical(y_train, 10)\n",
    "\ty_TestOneHot = np_utils.to_categorical(y_test, 10)\n",
    "\t# 回傳處理完的資料\n",
    "\treturn (x_Train, y_TrainOneHot), (x_Test, y_TestOneHot)\n",
    "    "
   ]
  },
  {
   "cell_type": "code",
   "execution_count": 2,
   "metadata": {
    "collapsed": true
   },
   "outputs": [],
   "source": [
    "import numpy as np\n",
    "from keras.models import Sequential\n",
    "from keras.layers import Input, Dense, TimeDistributed\n",
    "from keras import initializers\n",
    "from keras.models import Model\n",
    "#改使用這些layers, Conv2D = CNN\n",
    "from keras.layers import SimpleRNN\n",
    "from keras.optimizers import RMSprop\n",
    "\n",
    "def build_model(x):\n",
    "\t#建立模型 - same\n",
    "\t#model = Sequential()\n",
    "\tprediction = Dense(num_classes, activation='softmax')(encoded_columns)\n",
    "\tmodel = Model(x, prediction)\n",
    "\tmodel.summary()\n",
    "\treturn model"
   ]
  },
  {
   "cell_type": "code",
   "execution_count": 3,
   "metadata": {
    "scrolled": true
   },
   "outputs": [
    {
     "name": "stdout",
     "output_type": "stream",
     "text": [
      "_________________________________________________________________\n",
      "Layer (type)                 Output Shape              Param #   \n",
      "=================================================================\n",
      "input_1 (InputLayer)         (None, 28, 28, 1)         0         \n",
      "_________________________________________________________________\n",
      "time_distributed_1 (TimeDist (None, 28, 128)           66560     \n",
      "_________________________________________________________________\n",
      "lstm_2 (LSTM)                (None, 128)               131584    \n",
      "_________________________________________________________________\n",
      "dense_1 (Dense)              (None, 10)                1290      \n",
      "=================================================================\n",
      "Total params: 199,434\n",
      "Trainable params: 199,434\n",
      "Non-trainable params: 0\n",
      "_________________________________________________________________\n",
      "Train on 60000 samples, validate on 10000 samples\n",
      "Epoch 1/5\n",
      "60000/60000 [==============================] - 308s 5ms/step - loss: 0.4755 - acc: 0.8432 - val_loss: 0.1517 - val_acc: 0.9547\n",
      "Epoch 2/5\n",
      "60000/60000 [==============================] - 307s 5ms/step - loss: 0.1304 - acc: 0.9606 - val_loss: 0.0820 - val_acc: 0.9733\n",
      "Epoch 3/5\n",
      "60000/60000 [==============================] - 306s 5ms/step - loss: 0.0841 - acc: 0.9747 - val_loss: 0.0659 - val_acc: 0.9803\n",
      "Epoch 4/5\n",
      "60000/60000 [==============================] - 308s 5ms/step - loss: 0.0654 - acc: 0.9798 - val_loss: 0.0517 - val_acc: 0.9841\n",
      "Epoch 5/5\n",
      "60000/60000 [==============================] - 306s 5ms/step - loss: 0.0544 - acc: 0.9835 - val_loss: 0.0505 - val_acc: 0.9836\n",
      "60000/60000 [==============================] - 78s 1ms/step\n",
      "\n",
      "Train Acc: 0.9862666666666666\n",
      "10000/10000 [==============================] - 13s 1ms/step\n",
      "\n",
      "Test Acc: 0.9836\n"
     ]
    }
   ],
   "source": [
    "from keras.layers import Input\n",
    "from keras.layers import LSTM\n",
    "\n",
    "(x_train,y_train),(x_test,y_test)=load_data()\n",
    "\n",
    "# diff : 4d input\n",
    "row, col, pixel = x_train.shape[1:]\n",
    "x = Input(shape=(row, col, pixel))\n",
    "\n",
    "# Encodes a row of pixels using TimeDistributed Wrapper.\n",
    "encoded_rows = TimeDistributed(LSTM(row_hidden))(x)\n",
    "\n",
    "# Encodes columns of encoded rows.\n",
    "encoded_columns = LSTM(col_hidden)(encoded_rows)\n",
    "\n",
    "model = build_model(x)\n",
    "#開始訓練模型 - diff: optimizer=\"rmsprop\"\n",
    "#model.compile(loss='categorical_crossentropy',optimizer=\"adam\",metrics=['accuracy'])\n",
    "model.compile(loss='categorical_crossentropy',\\\n",
    "              optimizer='rmsprop',\\\n",
    "              metrics=['accuracy'])\n",
    "\n",
    "# diff: validation_data=(x_test, y_test))\n",
    "model.fit(x_train, y_train,\\\n",
    "          batch_size=batch_size,\\\n",
    "          epochs=epochs,\\\n",
    "          verbose=1,\\\n",
    "          validation_data=(x_test, y_test))\n",
    "#顯示訓練結果 - same\n",
    "score = model.evaluate(x_train,y_train)\n",
    "print ('\\nTrain Acc:', score[1])\n",
    "score = model.evaluate(x_test,y_test)\n",
    "print ('\\nTest Acc:', score[1])"
   ]
  },
  {
   "cell_type": "code",
   "execution_count": null,
   "metadata": {
    "collapsed": true
   },
   "outputs": [],
   "source": []
  }
 ],
 "metadata": {
  "kernelspec": {
   "display_name": "Python 3",
   "language": "python",
   "name": "python3"
  },
  "language_info": {
   "codemirror_mode": {
    "name": "ipython",
    "version": 3
   },
   "file_extension": ".py",
   "mimetype": "text/x-python",
   "name": "python",
   "nbconvert_exporter": "python",
   "pygments_lexer": "ipython3",
   "version": "3.6.3"
  }
 },
 "nbformat": 4,
 "nbformat_minor": 2
}
